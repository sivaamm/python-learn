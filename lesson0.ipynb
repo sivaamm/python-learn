{
 "cells": [
  {
   "cell_type": "markdown",
   "id": "3e9de732-f955-4e39-b169-5d17e0f01e5a",
   "metadata": {},
   "source": [
    "# Python学习笔记0\n",
    "## 1.下载与安装\n",
    "Google搜索Anaconda，[点一下就有](https://www.anaconda.com/),安装。\n",
    "\n",
    "注意add to path可选可不选\n",
    "\n",
    "<img src='addpath .png'>\n",
    "\n",
    "## 2.运行方式 \n",
    "a. python   \n",
    "b. jupyter notebook  \n",
    "c. jupyter lab  \n",
    "d. spyder  \n",
    "...  \n",
    "**Jupyter lab如何新建notebook**\n",
    "1. 先点new launcher\n",
    "2. 右侧页面里点击notebook\n",
    "3. 建好之后点击右键重命名\n",
    "4. 保存\n",
    "\n",
    "## 3.新建虚拟环境与安装library\n",
    "3.1 打开anaconda prompt  \n",
    "3.2 输入以下代码\n",
    "\n",
    "```\n",
    "conda create -n enviroment_name python=python_version\n",
    "```\n",
    "3.3 进入环境输入\n",
    "\n",
    "```\n",
    "conda activate environment_name\n",
    "```\n",
    "3.4 退出环境输入\n",
    "\n",
    "```\n",
    "conda deactivate\n",
    "或者\n",
    "conda activate base\n",
    "```\n",
    "\n",
    "3.5 安装卸载numpy等常用库的方法\n",
    "```\n",
    "pip install numpy\n",
    "```\n",
    "\n",
    "卸载的办法\n",
    "\n",
    "```\n",
    "pip uninstall numpy\n",
    "```\n",
    "\n",
    "安装指定版本的numpy\n",
    "```\n",
    "pip install numpy==version\n",
    "```\n",
    "\n",
    "对指定的库升级到最新版\n",
    "```\n",
    "pip install numpy --upgrade\n",
    "```\n",
    "\n",
    "\n",
    "另外一种安装软件包的方法\n",
    "\n",
    "```\n",
    "conda install numpy==version\n",
    "```\n",
    "\n",
    "查看已安装的库可以用\n",
    "```\n",
    "pip list\n",
    "或者\n",
    "conda list\n",
    "```\n",
    "\n",
    "查看pip和conda的区别请[点击这个](https://blog.csdn.net/qq_41204464/article/details/86530217)\n",
    "\n",
    "\n",
    "3.6 如何查看library版本，一般可以使用`__version__`查看\n",
    "\n",
    "```\n",
    "import numpy as np\n",
    "np.__version__\n",
    "```"
   ]
  },
  {
   "cell_type": "code",
   "execution_count": 1,
   "id": "069df05d-bbda-46f2-b746-00a370f8c40c",
   "metadata": {},
   "outputs": [
    {
     "data": {
      "text/plain": [
       "'1.21.5'"
      ]
     },
     "execution_count": 1,
     "metadata": {},
     "output_type": "execute_result"
    }
   ],
   "source": [
    "import numpy as np\n",
    "np.__version__"
   ]
  },
  {
   "cell_type": "code",
   "execution_count": 2,
   "id": "616ea3d9-73e9-4f6e-919b-8a4f67d95208",
   "metadata": {},
   "outputs": [
    {
     "name": "stdout",
     "output_type": "stream",
     "text": [
      "Requirement already satisfied: numpy in c:\\users\\admin\\anaconda3\\lib\\site-packages (1.21.5)\n",
      "Collecting numpy\n",
      "  Downloading numpy-1.24.1-cp39-cp39-win_amd64.whl (14.9 MB)\n",
      "Installing collected packages: numpy\n",
      "  Attempting uninstall: numpy\n",
      "    Found existing installation: numpy 1.21.5\n",
      "    Uninstalling numpy-1.21.5:\n",
      "      Successfully uninstalled numpy-1.21.5\n",
      "Successfully installed numpy-1.24.1\n"
     ]
    },
    {
     "name": "stderr",
     "output_type": "stream",
     "text": [
      "ERROR: pip's dependency resolver does not currently take into account all the packages that are installed. This behaviour is the source of the following dependency conflicts.\n",
      "daal4py 2021.5.0 requires daal==2021.4.0, which is not installed.\n",
      "scipy 1.7.3 requires numpy<1.23.0,>=1.16.5, but you have numpy 1.24.1 which is incompatible.\n",
      "numba 0.55.1 requires numpy<1.22,>=1.18, but you have numpy 1.24.1 which is incompatible.\n"
     ]
    }
   ],
   "source": [
    "!pip install numpy --upgrade"
   ]
  },
  {
   "cell_type": "code",
   "execution_count": 1,
   "id": "5dd410ab-6ed7-4e22-bba6-79c10a9c8fec",
   "metadata": {},
   "outputs": [
    {
     "data": {
      "text/plain": [
       "'1.24.1'"
      ]
     },
     "execution_count": 1,
     "metadata": {},
     "output_type": "execute_result"
    }
   ],
   "source": [
    "import numpy as np\n",
    "np.__version__"
   ]
  },
  {
   "cell_type": "code",
   "execution_count": 2,
   "id": "f709f81c-74f4-46e0-b1b2-b958b77366ae",
   "metadata": {},
   "outputs": [
    {
     "name": "stdout",
     "output_type": "stream",
     "text": [
      "Collecting numpy==1.21.5\n",
      "  Downloading numpy-1.21.5-cp39-cp39-win_amd64.whl (14.0 MB)\n",
      "Installing collected packages: numpy\n",
      "  Attempting uninstall: numpy\n",
      "    Found existing installation: numpy 1.24.1\n",
      "    Uninstalling numpy-1.24.1:\n",
      "      Successfully uninstalled numpy-1.24.1\n"
     ]
    },
    {
     "name": "stderr",
     "output_type": "stream",
     "text": [
      "ERROR: Could not install packages due to an OSError: [WinError 5] 拒绝访问。: 'C:\\\\Users\\\\admin\\\\anaconda3\\\\Lib\\\\site-packages\\\\~umpy\\\\.libs\\\\libopenblas64__v0.3.21-gcc_10_3_0.dll'\n",
      "Consider using the `--user` option or check the permissions.\n",
      "\n"
     ]
    }
   ],
   "source": [
    "!pip install numpy==1.21.5"
   ]
  },
  {
   "cell_type": "code",
   "execution_count": null,
   "id": "4d79bd53-ae51-4cb5-8fa0-a674c0a0b81a",
   "metadata": {},
   "outputs": [],
   "source": []
  }
 ],
 "metadata": {
  "kernelspec": {
   "display_name": "Python 3 (ipykernel)",
   "language": "python",
   "name": "python3"
  },
  "language_info": {
   "codemirror_mode": {
    "name": "ipython",
    "version": 3
   },
   "file_extension": ".py",
   "mimetype": "text/x-python",
   "name": "python",
   "nbconvert_exporter": "python",
   "pygments_lexer": "ipython3",
   "version": "3.9.12"
  }
 },
 "nbformat": 4,
 "nbformat_minor": 5
}
